{
 "cells": [
  {
   "cell_type": "markdown",
   "metadata": {},
   "source": [
    "1. Write a Python program to reverse a string. \n"
   ]
  },
  {
   "cell_type": "code",
   "execution_count": 2,
   "metadata": {},
   "outputs": [
    {
     "data": {
      "text/plain": [
       "'vallap'"
      ]
     },
     "execution_count": 2,
     "metadata": {},
     "output_type": "execute_result"
    }
   ],
   "source": [
    "def reverse(a):\n",
    "    b=a[::-1]\n",
    "    return(b)\n",
    "n=input(\"Enter a string:\")\n",
    "reverse(n)"
   ]
  },
  {
   "cell_type": "markdown",
   "metadata": {},
   "source": [
    " Write a Python function to check whether a number falls within a given range. \n"
   ]
  },
  {
   "cell_type": "code",
   "execution_count": 16,
   "metadata": {},
   "outputs": [
    {
     "name": "stdout",
     "output_type": "stream",
     "text": [
      "True\n"
     ]
    }
   ],
   "source": [
    "def is_in_range(num):\n",
    "    return 1 <= num <= 10\n",
    "\n",
    "print(is_in_range(5))"
   ]
  },
  {
   "cell_type": "markdown",
   "metadata": {},
   "source": [
    "3. Write a Python function that accepts a string and counts the number of vowel and consonant letters. \n"
   ]
  },
  {
   "cell_type": "code",
   "execution_count": 3,
   "metadata": {},
   "outputs": [
    {
     "name": "stdout",
     "output_type": "stream",
     "text": [
      "Vowel count: 2\n",
      "Consonant count: 3\n"
     ]
    }
   ],
   "source": [
    "def count_vowels_and_consonants(s):\n",
    "    vowel_count = 0\n",
    "    consonant_count = 0\n",
    "    for char in s:\n",
    "        if char.lower() in \"aeiouAEIOU\":\n",
    "            vowel_count += 1\n",
    "        elif char.isalpha():\n",
    "            consonant_count += 1\n",
    "    return vowel_count, consonant_count\n",
    "\n",
    "s = input(\"Enter a string: \")\n",
    "vowel_count, consonant_count = count_vowels_and_consonants(s)\n",
    "print(\"Vowel count:\", vowel_count)\n",
    "print(\"Consonant count:\", consonant_count)"
   ]
  },
  {
   "cell_type": "markdown",
   "metadata": {},
   "source": [
    "4. Write a Python function that takes a list and returns a new list with distinct elements from the first list. \n"
   ]
  },
  {
   "cell_type": "code",
   "execution_count": 4,
   "metadata": {},
   "outputs": [
    {
     "name": "stdout",
     "output_type": "stream",
     "text": [
      "['A', 'a', 'b', 'Pallav', 'Timalsina']\n"
     ]
    }
   ],
   "source": [
    "def my_list(s):\n",
    "    list1=['Pallav','Timalsina',\"A\",\"b\",'a',\"A\"]\n",
    "    s=  list(set(list1))\n",
    "    return s\n",
    "print(my_list(s))"
   ]
  },
  {
   "cell_type": "markdown",
   "metadata": {},
   "source": [
    "Write a Python function to create and print a list where the values are the squares of numbers between\n",
    "1 and 20 (both included)"
   ]
  },
  {
   "cell_type": "code",
   "execution_count": 41,
   "metadata": {},
   "outputs": [
    {
     "name": "stdout",
     "output_type": "stream",
     "text": [
      "[1, 4, 9, 16, 25, 36, 49, 64, 81, 100, 121, 144, 169, 196, 225, 256, 289, 324, 361, 400]\n"
     ]
    }
   ],
   "source": [
    "def square():\n",
    "    return [i**2 for i in __builtins__.range(1, 21)]\n",
    "print(square())"
   ]
  },
  {
   "cell_type": "markdown",
   "metadata": {},
   "source": [
    "Write a Python program to access a function inside a function. \n"
   ]
  },
  {
   "cell_type": "code",
   "execution_count": 42,
   "metadata": {},
   "outputs": [
    {
     "name": "stdout",
     "output_type": "stream",
     "text": [
      "Hello, World!\n"
     ]
    }
   ],
   "source": [
    "def outer_function():\n",
    "    def inner_function():\n",
    "        return \"Hello, World!\"\n",
    "    return inner_function\n",
    "outer = outer_function()    \n",
    "print(outer())  # Output: Hello, World!"
   ]
  },
  {
   "cell_type": "markdown",
   "metadata": {},
   "source": [
    "Write a Python program to detect the number of local variables declared in a function. "
   ]
  },
  {
   "cell_type": "code",
   "execution_count": 46,
   "metadata": {},
   "outputs": [
    {
     "name": "stdout",
     "output_type": "stream",
     "text": [
      "{'a': 'hello', 'b': 'world', 'c': 'helloworld'}\n",
      "3\n"
     ]
    }
   ],
   "source": [
    "def varibale():\n",
    "    a='hello'\n",
    "    b='world'\n",
    "    c=a+b\n",
    "    local_var=locals()\n",
    "    print(local_var)\n",
    "    return len(local_var)\n",
    "print(varibale())\n",
    "    \n",
    "\n"
   ]
  },
  {
   "cell_type": "markdown",
   "metadata": {},
   "source": [
    "8. Write a Python program to count the even and odd numbers from a given list and also print them \n",
    "separately. \n"
   ]
  },
  {
   "cell_type": "code",
   "execution_count": 5,
   "metadata": {},
   "outputs": [
    {
     "name": "stdout",
     "output_type": "stream",
     "text": [
      "Even list: [4, 2, 6]\n",
      "Odd list: [1, 3, 5]\n",
      "Even count: 3\n",
      "Odd count: 3\n"
     ]
    }
   ],
   "source": [
    "\n",
    "        \n",
    "def check(n):\n",
    "    e=[];o=[]\n",
    "    for i in n:\n",
    "        if i%2==0:\n",
    "            e.append(i)\n",
    "        else:\n",
    "            o.append(i)\n",
    "    print(\"Even list:\",e)\n",
    "    print(\"Odd list:\",o)\n",
    "    print(\"Even count:\",len(e))\n",
    "    print(\"Odd count:\",len(o))\n",
    "check([1,3,5,4,2,6])\n"
   ]
  },
  {
   "cell_type": "markdown",
   "metadata": {},
   "source": [
    "9. Write a Python program to find the power of a number using recursion function. <br>\n",
    "Input: N = 2, P = 3 Output: 8 <br>\n",
    "Input: N = 5, P = 2 Output: 25"
   ]
  },
  {
   "cell_type": "code",
   "execution_count": null,
   "metadata": {},
   "outputs": [
    {
     "data": {
      "text/plain": [
       "8"
      ]
     },
     "execution_count": 10,
     "metadata": {},
     "output_type": "execute_result"
    }
   ],
   "source": [
    "def power(n,p):\n",
    "    if p==0:    \n",
    "        return 1\n",
    "    else:\n",
    "        return n*power(n,p-1)\n",
    "power(2,3)    "
   ]
  },
  {
   "cell_type": "markdown",
   "metadata": {},
   "source": [
    "10. Write a Python function that takes a sentence as a parameter and print the words in ascending order. "
   ]
  },
  {
   "cell_type": "code",
   "execution_count": 15,
   "metadata": {},
   "outputs": [
    {
     "name": "stdout",
     "output_type": "stream",
     "text": [
      "Words in ascending order: a e i r\n"
     ]
    }
   ],
   "source": [
    "def sort_words(sentence):\n",
    "    words = sentence.split()\n",
    "    #print(words)\n",
    "    words.sort()\n",
    "    #print(words)\n",
    "    print(\"Words in ascending order:\", ' '.join(words))\n",
    "\n",
    "sentence = input(\"Enter a sentence\")\n",
    "sort_words(sentence)\n"
   ]
  },
  {
   "cell_type": "markdown",
   "metadata": {},
   "source": [
    "11. Write a Python a function that takes a string as argument and print the most common character in that \n",
    "string. "
   ]
  },
  {
   "cell_type": "code",
   "execution_count": 2,
   "metadata": {},
   "outputs": [
    {
     "name": "stdout",
     "output_type": "stream",
     "text": [
      "l\n",
      "g\n"
     ]
    }
   ],
   "source": [
    "def most_common_char(s):\n",
    "    return max(set(s), key=s.count)\n",
    "print(most_common_char(\"Hello, World!\"))\n",
    "print(most_common_char(\"Python is a programming language\"))\n",
    " "
   ]
  },
  {
   "cell_type": "markdown",
   "metadata": {},
   "source": [
    "12.  Write a Python function that takes a date in string format DD/MM/YYYY and checks if it is a valid \n",
    "date and in the correct format. "
   ]
  },
  {
   "cell_type": "code",
   "execution_count": 4,
   "metadata": {},
   "outputs": [
    {
     "name": "stdout",
     "output_type": "stream",
     "text": [
      "The date 09/13/2061 is invalid.\n"
     ]
    }
   ],
   "source": [
    "from datetime import datetime\n",
    "\n",
    "def is_valid_date(date_str):\n",
    "    try:\n",
    "        date = datetime.strptime(date_str, \"%d/%m/%Y\")\n",
    "        return True  \n",
    "    except ValueError:\n",
    "        return False  \n",
    "        \n",
    "date_input = input(\"Enter a date (DD/MM/YYYY): \")\n",
    "if is_valid_date(date_input):\n",
    "    print(f\"The date {date_input} is valid.\")\n",
    "else:\n",
    "    print(f\"The date {date_input} is invalid.\")\n"
   ]
  },
  {
   "cell_type": "markdown",
   "metadata": {},
   "source": [
    "13. Write a Python function that takes a name (string) as argument and capitalizes the first and fourth letters \n",
    "of the input name. "
   ]
  },
  {
   "cell_type": "code",
   "execution_count": 6,
   "metadata": {},
   "outputs": [
    {
     "name": "stdout",
     "output_type": "stream",
     "text": [
      "PytHon\n"
     ]
    }
   ],
   "source": [
    "def capitalize_name(name):\n",
    "    if len(name) >= 4:\n",
    "        return name[:3] + name[3].upper() + name[4:]\n",
    "    else:\n",
    "        return name\n",
    "print(capitalize_name(\"Python\"))"
   ]
  },
  {
   "cell_type": "markdown",
   "metadata": {},
   "source": [
    "14. Write a Python function that takes a sentence, and return a sentence with the words reversed."
   ]
  },
  {
   "cell_type": "code",
   "execution_count": 7,
   "metadata": {},
   "outputs": [
    {
     "data": {
      "text/plain": [
       "['I', 'ekil', 'elppa']"
      ]
     },
     "execution_count": 7,
     "metadata": {},
     "output_type": "execute_result"
    }
   ],
   "source": [
    "def reverse(n):\n",
    "    b=n.split()\n",
    "    c=[]\n",
    "    for i in b:\n",
    "        c.append(i[::-1])\n",
    "    return(c)\n",
    "reverse(\"I like apple\")"
   ]
  },
  {
   "cell_type": "markdown",
   "metadata": {},
   "source": [
    "15. Write a Python function takes a two-word strings and find if both words begin with same letter or not. "
   ]
  },
  {
   "cell_type": "code",
   "execution_count": 9,
   "metadata": {},
   "outputs": [
    {
     "data": {
      "text/plain": [
       "True"
      ]
     },
     "execution_count": 9,
     "metadata": {},
     "output_type": "execute_result"
    }
   ],
   "source": [
    "def check(n):\n",
    "    b=n.split()\n",
    "    for i in b:\n",
    "        if i[0][:0]==i[1][:0]:\n",
    "            return True \n",
    "        else:\n",
    "            return False\n",
    "check('python')"
   ]
  }
 ],
 "metadata": {
  "kernelspec": {
   "display_name": "base",
   "language": "python",
   "name": "python3"
  },
  "language_info": {
   "codemirror_mode": {
    "name": "ipython",
    "version": 3
   },
   "file_extension": ".py",
   "mimetype": "text/x-python",
   "name": "python",
   "nbconvert_exporter": "python",
   "pygments_lexer": "ipython3",
   "version": "3.12.4"
  }
 },
 "nbformat": 4,
 "nbformat_minor": 2
}
